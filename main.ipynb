{
 "cells": [
  {
   "cell_type": "code",
   "execution_count": 40,
   "metadata": {},
   "outputs": [
    {
     "name": "stdout",
     "output_type": "stream",
     "text": [
      "Year Low: 2024, Year High: 2100\n",
      "Year Low: 2024, Year High: 2062.0\n",
      "Year Low: 2024, Year High: 2043.0\n",
      "Year Low: 2024, Year High: 2033.5\n",
      "Year Low: 2024, Year High: 2028.75\n",
      "Year Low: 2024, Year High: 2026.375\n",
      "Year Low: 2025.1875, Year High: 2026.375\n",
      "Year Low: 2025.78125, Year High: 2026.375\n",
      "Year Low: 2026.078125, Year High: 2026.375\n",
      "Year Low: 2026.078125, Year High: 2026.2265625\n",
      "Year where Quantum Feasible and Quantum Advantage are closest: 2026.115234375\n"
     ]
    }
   ],
   "source": [
    "import sympy as sp\n",
    "import numpy as np\n",
    "\n",
    "def get_quantum_advantage(classical_runtime, quantum_runtime, hardware_slowdown, quantum_improvement_rate=2, year=2024):\n",
    "    n = sp.Symbol('n')\n",
    "    classical_runtime = sp.sympify(classical_runtime)\n",
    "    quantum_runtime = sp.sympify(quantum_runtime)\n",
    "\n",
    "    problem_size = sp.Eq(classical_runtime, quantum_runtime * (hardware_slowdown * (1/(quantum_improvement_rate**(year - 2024)))))\n",
    "    solutions = sp.solve(problem_size, n)\n",
    "    real_solutions = [solution.evalf() for solution in solutions if solution.is_real]\n",
    "\n",
    "    if not real_solutions:\n",
    "        raise ValueError(\"No real solutions found.\")\n",
    "    \n",
    "    max_solution = max(real_solutions, key=lambda x: x.evalf())\n",
    "    return max_solution.evalf()\n",
    "\n",
    "\n",
    "\n",
    "def get_quantum_feasible(year, roadmap, physical_logical_qubits_ratio=1000):\n",
    "    year = float(year)\n",
    "    years = np.array(list(roadmap.keys()))\n",
    "    qubits = np.array(list(roadmap.values()))\n",
    "\n",
    "    if year in roadmap:\n",
    "        number_of_physical_qubits = roadmap[year]\n",
    "    elif year > max(years):\n",
    "        regression = np.polyfit(years[years > 2024], qubits[years > 2024], 1)\n",
    "        number_of_physical_qubits = np.polyval(regression, year)\n",
    "    else:\n",
    "        number_of_physical_qubits = np.interp(year, years, qubits)\n",
    "\n",
    "    problem_size = 2 ** (number_of_physical_qubits / physical_logical_qubits_ratio)\n",
    "    return problem_size\n",
    "\n",
    "\n",
    "\n",
    "ibm_roadmap = {\n",
    "    2021.0: 127,\n",
    "    2022.0: 433,\n",
    "    2023.0: 1121,\n",
    "    2024.0: 1386,\n",
    "    2025.0: 4158,\n",
    "    2033.0: 100000\n",
    "\n",
    "}\n",
    "\n",
    "# Define the quantum feasible and quantum advantage functions as a function of the year\n",
    "def qf(roadmap):\n",
    "    return lambda year: float(sp.log(get_quantum_feasible(year, roadmap),10).evalf())\n",
    "\n",
    "def qa(classical_runtime, quantum_runtime, hardware_slowdown,  quantum_improvement_rate):\n",
    "    return lambda year: float(sp.log(get_quantum_advantage(classical_runtime, quantum_runtime, hardware_slowdown, quantum_improvement_rate, year=year),10).evalf())\n",
    "\n",
    "\n",
    "# Create the functions\n",
    "f = qf(ibm_roadmap)\n",
    "a = qa('n^3', 'n^2', 10**6, 2)\n",
    "\n",
    "\n",
    "def target_function(year):\n",
    "    return f(year) - a(year)\n",
    "\n",
    "def find_zero_bisection(year_low, year_high, tolerance=0.1):\n",
    "    while (year_high - year_low) > tolerance:\n",
    "        print(f\"Year Low: {year_low}, Year High: {year_high}\")\n",
    "        year_mid = (year_high + year_low) / 2\n",
    "        if target_function(year_mid) * target_function(year_low) <= 0:\n",
    "            year_high = year_mid\n",
    "        else:\n",
    "            year_low = year_mid\n",
    "    return (year_high + year_low) / 2\n",
    "\n",
    "# Example usage:\n",
    "# Replace year_low and year_high with your initial guesses\n",
    "year_zero = find_zero_bisection(year_low=2024, year_high=2100)\n",
    "print(f\"Year where Quantum Feasible and Quantum Advantage are closest: {year_zero}\")\n",
    "\n"
   ]
  },
  {
   "cell_type": "code",
   "execution_count": 71,
   "metadata": {},
   "outputs": [
    {
     "data": {
      "text/latex": [
       "$\\displaystyle 3.94130291364811$"
      ],
      "text/plain": [
       "3.94130291364811"
      ]
     },
     "execution_count": 71,
     "metadata": {},
     "output_type": "execute_result"
    }
   ],
   "source": [
    "4 - 0.117394172703787 * 0.5\n",
    "(a(2024.5))"
   ]
  },
  {
   "cell_type": "code",
   "execution_count": 61,
   "metadata": {},
   "outputs": [
    {
     "name": "stdout",
     "output_type": "stream",
     "text": [
      "2024: 4.00000000000000 : 0.117394172703787\n",
      "2025: 3.88260582729621 : 0.117394172703788\n",
      "2026: 3.76521165459242 : 0.117394172703787\n",
      "2027: 3.64781748188864 : 0.117394172703788\n",
      "2028: 3.53042330918485 : 0.117394172703788\n",
      "2029: 3.41302913648106 : 0.117394172703787\n",
      "2030: 3.29563496377728 : 0.117394172703787\n",
      "2031: 3.17824079107349 : 0.117394172703788\n",
      "2032: 3.06084661836970 : 0.117394172703788\n",
      "2033: 2.94345244566591 : 0.117394172703787\n",
      "2034: 2.82605827296213 : 0.117394172703788\n",
      "2035: 2.70866410025834 : 0.117394172703787\n",
      "2036: 2.59126992755455 : 0.117394172703787\n",
      "2037: 2.47387575485076 : 0.117394172703788\n",
      "2038: 2.35648158214698 : 0.117394172703787\n",
      "2039: 2.23908740944319 : 0.117394172703788\n",
      "2040: 2.12169323673940 : 0.117394172703788\n",
      "2041: 2.00429906403561 : 0.117394172703787\n",
      "2042: 1.88690489133183 : 0.117394172703787\n",
      "2043: 1.76951071862804 : 0.117394172703787\n",
      "2044: 1.65211654592425 : 0.117394172703787\n",
      "2045: 1.53472237322046 : 0.117394172703787\n",
      "2046: 1.41732820051668 : 0.117394172703787\n",
      "2047: 1.29993402781289 : 0.117394172703787\n",
      "2048: 1.18253985510910 : 0.117394172703787\n",
      "2049: 1.06514568240531 : 0.117394172703787\n"
     ]
    }
   ],
   "source": [
    "a = qa('n^2', 'sqrt(n)', hardware_slowdown=10**6,  quantum_improvement_rate=1.5**1)\n",
    "for i in range(2024, 2050):\n",
    "    hw = 10**6 * ((1.02**(i - 2024)))\n",
    "    print(f\"{i}: {a(i)} : {a(i) - a(i+1)}\")\n",
    "\n"
   ]
  }
 ],
 "metadata": {
  "kernelspec": {
   "display_name": "venv3.12",
   "language": "python",
   "name": "python3"
  },
  "language_info": {
   "codemirror_mode": {
    "name": "ipython",
    "version": 3
   },
   "file_extension": ".py",
   "mimetype": "text/x-python",
   "name": "python",
   "nbconvert_exporter": "python",
   "pygments_lexer": "ipython3",
   "version": "3.12.1"
  }
 },
 "nbformat": 4,
 "nbformat_minor": 2
}
